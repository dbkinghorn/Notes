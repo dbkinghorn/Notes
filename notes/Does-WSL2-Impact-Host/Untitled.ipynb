{
 "cells": [
  {
   "cell_type": "markdown",
   "metadata": {},
   "source": [
    "## Google Sheet for WSL2 performance impact on host applications"
   ]
  },
  {
   "cell_type": "markdown",
   "metadata": {},
   "source": [
    "Downloaded the sheet as csv file to this working directory"
   ]
  },
  {
   "cell_type": "code",
   "execution_count": 3,
   "metadata": {},
   "outputs": [],
   "source": [
    "import pandas as pd\n",
    "import numpy as np"
   ]
  },
  {
   "cell_type": "code",
   "execution_count": 4,
   "metadata": {},
   "outputs": [],
   "source": [
    "wslperf = pd.read_csv(\"WSL2-TestingResults-WSL2.csv\")"
   ]
  },
  {
   "cell_type": "code",
   "execution_count": 5,
   "metadata": {},
   "outputs": [
    {
     "data": {
      "text/plain": [
       "<bound method NDFrame.head of                                           Unnamed: 0     Unnamed: 1  \\\n",
       "0    PugetBench for Photoshop 0.9 (Photoshop 21.1.3)  Overall Score   \n",
       "1    PugetBench for Photoshop 0.9 (Photoshop 21.1.3)      GPU Score   \n",
       "2    PugetBench for Photoshop 0.9 (Photoshop 21.1.3)  General Score   \n",
       "3    PugetBench for Photoshop 0.9 (Photoshop 21.1.3)   Filter Score   \n",
       "4    PugetBench for Photoshop 0.9 (Photoshop 21.1.3)  RAW File Open   \n",
       "..                                               ...            ...   \n",
       "362                       RealityCapture 1.0.3.10403     School Map   \n",
       "363                       RealityCapture 1.0.3.10403     School Map   \n",
       "364                       RealityCapture 1.0.3.10403     School Map   \n",
       "365                       RealityCapture 1.0.3.10403     School Map   \n",
       "366                       RealityCapture 1.0.3.10403     School Map   \n",
       "\n",
       "           Unnamed: 2  W10 v1909 #1  W10 v1909 #2  W10 v2004 #1  W10 v2004 #2  \\\n",
       "0                 NaN       987.000       991.000       995.000        993.00   \n",
       "1                 NaN        96.700        96.600       101.100        101.10   \n",
       "2                 NaN        78.800        78.600        81.900         81.90   \n",
       "3                 NaN       118.500       119.500       117.000        116.70   \n",
       "4           Best Time         0.793         0.773         0.779          0.78   \n",
       "..                ...           ...           ...           ...           ...   \n",
       "362   Calculate Model       190.500       191.900       198.400        198.60   \n",
       "363          Colorize        15.100        15.000        13.700         13.60   \n",
       "364           Texture       138.300       137.700       132.800        133.00   \n",
       "365  Ortho Projection        51.100        51.000        52.300         52.50   \n",
       "366             Total       414.100       415.500       416.700        417.40   \n",
       "\n",
       "     W10 v2004 w/ WSL2 #1  W10 v2004 w/ WSL2 #2 Variance  \\\n",
       "0                 999.000               999.000    1.21%   \n",
       "1                 101.400               101.700      NaN   \n",
       "2                  82.200                82.200      NaN   \n",
       "3                 117.600               117.600      NaN   \n",
       "4                   0.786                 0.776      NaN   \n",
       "..                    ...                   ...      ...   \n",
       "362               205.700               198.900      NaN   \n",
       "363                13.700                13.600      NaN   \n",
       "364               130.300               132.100      NaN   \n",
       "365                51.600                51.700      NaN   \n",
       "366               421.700               415.900    1.82%   \n",
       "\n",
       "                   Analysis  \n",
       "0    Within margin of error  \n",
       "1                       NaN  \n",
       "2                       NaN  \n",
       "3                       NaN  \n",
       "4                       NaN  \n",
       "..                      ...  \n",
       "362                     NaN  \n",
       "363                     NaN  \n",
       "364                     NaN  \n",
       "365                     NaN  \n",
       "366  Within margin of error  \n",
       "\n",
       "[367 rows x 11 columns]>"
      ]
     },
     "execution_count": 5,
     "metadata": {},
     "output_type": "execute_result"
    }
   ],
   "source": [
    "wslperf.head"
   ]
  },
  {
   "cell_type": "code",
   "execution_count": 8,
   "metadata": {},
   "outputs": [
    {
     "data": {
      "text/plain": [
       "0.09266778122760927"
      ]
     },
     "execution_count": 8,
     "metadata": {},
     "output_type": "execute_result"
    }
   ],
   "source": [
    "(1082-985)/(np.mean([1056,1064,985,1082]))"
   ]
  },
  {
   "cell_type": "code",
   "execution_count": 16,
   "metadata": {},
   "outputs": [],
   "source": [
    "dat=np.array([179.5,179.7,180,181])"
   ]
  },
  {
   "cell_type": "code",
   "execution_count": 17,
   "metadata": {},
   "outputs": [
    {
     "data": {
      "text/plain": [
       "-0.005554012774229381"
      ]
     },
     "execution_count": 17,
     "metadata": {},
     "output_type": "execute_result"
    }
   ],
   "source": [
    "(np.mean(dat[:1])-np.mean(dat[2:]))/np.mean(dat)"
   ]
  },
  {
   "cell_type": "code",
   "execution_count": null,
   "metadata": {},
   "outputs": [],
   "source": []
  }
 ],
 "metadata": {
  "kernelspec": {
   "display_name": "Python 3",
   "language": "python",
   "name": "python3"
  },
  "language_info": {
   "codemirror_mode": {
    "name": "ipython",
    "version": 3
   },
   "file_extension": ".py",
   "mimetype": "text/x-python",
   "name": "python",
   "nbconvert_exporter": "python",
   "pygments_lexer": "ipython3",
   "version": "3.7.7"
  }
 },
 "nbformat": 4,
 "nbformat_minor": 4
}
